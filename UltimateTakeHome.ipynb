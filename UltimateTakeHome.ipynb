{
 "cells": [
  {
   "cell_type": "markdown",
   "id": "475947ac",
   "metadata": {},
   "source": [
    "# Data Analysis Take Home Interview"
   ]
  },
  {
   "cell_type": "markdown",
   "id": "a543b48d",
   "metadata": {},
   "source": [
    "## 1. Sourcing and Loading\n",
    "\n",
    "### 1a. Load relevant libraries "
   ]
  },
  {
   "cell_type": "code",
   "execution_count": 212,
   "id": "7c3ba8f3",
   "metadata": {},
   "outputs": [],
   "source": [
    "import json\n",
    "import pandas as pd \n",
    "import datetime\n",
    "import pandas as pd\n",
    "import numpy as np\n",
    "import matplotlib.pyplot as plt\n",
    "import matplotlib as mpl\n",
    "import statsmodels.api as sm\n",
    "from statsmodels.graphics.tsaplots import plot_acf\n",
    "from statsmodels.graphics.tsaplots import plot_pacf\n",
    "from statsmodels.tsa.stattools import acf\n",
    "from math import sqrt\n",
    "from statsmodels.tsa.stattools import adfuller\n",
    "from sklearn.preprocessing import LabelEncoder, OneHotEncoder\n",
    "from collections import OrderedDict\n",
    "from mixed_naive_bayes import MixedNB\n",
    "from sklearn.model_selection import train_test_split\n",
    "from sklearn.metrics import accuracy_score\n",
    "from sklearn.inspection import permutation_importance"
   ]
  },
  {
   "cell_type": "markdown",
   "id": "83aabcc6",
   "metadata": {},
   "source": [
    "### 1b. Load the data"
   ]
  },
  {
   "cell_type": "code",
   "execution_count": 213,
   "id": "56df11c5",
   "metadata": {},
   "outputs": [],
   "source": [
    "df = pd.read_json('logins.json', typ='frame')"
   ]
  },
  {
   "cell_type": "markdown",
   "id": "5412ea4b",
   "metadata": {},
   "source": [
    "### 1c.  Explore the data"
   ]
  },
  {
   "cell_type": "markdown",
   "id": "950910a3",
   "metadata": {},
   "source": [
    "Confirm that the data is appropriate for a time series style analysis. "
   ]
  },
  {
   "cell_type": "code",
   "execution_count": 214,
   "id": "1e93405e",
   "metadata": {},
   "outputs": [
    {
     "data": {
      "text/plain": [
       "pandas.core.frame.DataFrame"
      ]
     },
     "execution_count": 214,
     "metadata": {},
     "output_type": "execute_result"
    }
   ],
   "source": [
    "type(df)"
   ]
  },
  {
   "cell_type": "code",
   "execution_count": 215,
   "id": "21adeb02",
   "metadata": {},
   "outputs": [
    {
     "data": {
      "text/html": [
       "<div>\n",
       "<style scoped>\n",
       "    .dataframe tbody tr th:only-of-type {\n",
       "        vertical-align: middle;\n",
       "    }\n",
       "\n",
       "    .dataframe tbody tr th {\n",
       "        vertical-align: top;\n",
       "    }\n",
       "\n",
       "    .dataframe thead th {\n",
       "        text-align: right;\n",
       "    }\n",
       "</style>\n",
       "<table border=\"1\" class=\"dataframe\">\n",
       "  <thead>\n",
       "    <tr style=\"text-align: right;\">\n",
       "      <th></th>\n",
       "      <th>login_time</th>\n",
       "    </tr>\n",
       "  </thead>\n",
       "  <tbody>\n",
       "    <tr>\n",
       "      <th>0</th>\n",
       "      <td>1970-01-01 20:13:18</td>\n",
       "    </tr>\n",
       "    <tr>\n",
       "      <th>1</th>\n",
       "      <td>1970-01-01 20:16:10</td>\n",
       "    </tr>\n",
       "    <tr>\n",
       "      <th>2</th>\n",
       "      <td>1970-01-01 20:16:37</td>\n",
       "    </tr>\n",
       "    <tr>\n",
       "      <th>3</th>\n",
       "      <td>1970-01-01 20:16:36</td>\n",
       "    </tr>\n",
       "    <tr>\n",
       "      <th>4</th>\n",
       "      <td>1970-01-01 20:26:21</td>\n",
       "    </tr>\n",
       "  </tbody>\n",
       "</table>\n",
       "</div>"
      ],
      "text/plain": [
       "           login_time\n",
       "0 1970-01-01 20:13:18\n",
       "1 1970-01-01 20:16:10\n",
       "2 1970-01-01 20:16:37\n",
       "3 1970-01-01 20:16:36\n",
       "4 1970-01-01 20:26:21"
      ]
     },
     "execution_count": 215,
     "metadata": {},
     "output_type": "execute_result"
    }
   ],
   "source": [
    "df.head()"
   ]
  },
  {
   "cell_type": "markdown",
   "id": "8db34219",
   "metadata": {},
   "source": [
    "Check out the columns feature of the data. How many columns are there?"
   ]
  },
  {
   "cell_type": "code",
   "execution_count": 216,
   "id": "0e95131d",
   "metadata": {},
   "outputs": [
    {
     "data": {
      "text/plain": [
       "(Index(['login_time'], dtype='object'), 1)"
      ]
     },
     "execution_count": 216,
     "metadata": {},
     "output_type": "execute_result"
    }
   ],
   "source": [
    "df.columns, len(df.columns)"
   ]
  },
  {
   "cell_type": "markdown",
   "id": "f4354a6e",
   "metadata": {},
   "source": [
    "Let's check out the data types of our columns."
   ]
  },
  {
   "cell_type": "code",
   "execution_count": 217,
   "id": "9e9c3bcc",
   "metadata": {},
   "outputs": [
    {
     "name": "stdout",
     "output_type": "stream",
     "text": [
      "<class 'pandas.core.frame.DataFrame'>\n",
      "RangeIndex: 93142 entries, 0 to 93141\n",
      "Data columns (total 1 columns):\n",
      " #   Column      Non-Null Count  Dtype         \n",
      "---  ------      --------------  -----         \n",
      " 0   login_time  93142 non-null  datetime64[ns]\n",
      "dtypes: datetime64[ns](1)\n",
      "memory usage: 727.8 KB\n"
     ]
    }
   ],
   "source": [
    "df.info()"
   ]
  },
  {
   "cell_type": "markdown",
   "id": "666e19ce",
   "metadata": {},
   "source": [
    "Are there any null values?"
   ]
  },
  {
   "cell_type": "code",
   "execution_count": 218,
   "id": "aa57289a",
   "metadata": {},
   "outputs": [
    {
     "name": "stdout",
     "output_type": "stream",
     "text": [
      "login_time    0\n",
      "dtype: int64\n"
     ]
    }
   ],
   "source": [
    "print(df.isnull().sum())"
   ]
  },
  {
   "cell_type": "code",
   "execution_count": 219,
   "id": "ed50be1d",
   "metadata": {},
   "outputs": [
    {
     "data": {
      "text/plain": [
       "RangeIndex(start=0, stop=93142, step=1)"
      ]
     },
     "execution_count": 219,
     "metadata": {},
     "output_type": "execute_result"
    }
   ],
   "source": [
    "df.index"
   ]
  },
  {
   "cell_type": "markdown",
   "id": "39af5286",
   "metadata": {},
   "source": [
    "## 2. Cleaning, transforming and visualizing"
   ]
  },
  {
   "cell_type": "markdown",
   "id": "5013d01b",
   "metadata": {},
   "source": [
    "### 2a. Create a datetime index and drop the extra column"
   ]
  },
  {
   "cell_type": "code",
   "execution_count": 220,
   "id": "d3d27021",
   "metadata": {},
   "outputs": [],
   "source": [
    "df.login_time = pd.to_datetime(df['login_time'])"
   ]
  },
  {
   "cell_type": "code",
   "execution_count": 221,
   "id": "60b78bfe",
   "metadata": {},
   "outputs": [],
   "source": [
    "df.index = df.login_time"
   ]
  },
  {
   "cell_type": "code",
   "execution_count": 222,
   "id": "86088a1f",
   "metadata": {},
   "outputs": [
    {
     "name": "stdout",
     "output_type": "stream",
     "text": [
      "<class 'pandas.core.frame.DataFrame'>\n",
      "DatetimeIndex: 93142 entries, 1970-01-01 20:13:18 to 1970-04-13 18:54:23\n",
      "Data columns (total 1 columns):\n",
      " #   Column      Non-Null Count  Dtype         \n",
      "---  ------      --------------  -----         \n",
      " 0   login_time  93142 non-null  datetime64[ns]\n",
      "dtypes: datetime64[ns](1)\n",
      "memory usage: 1.4 MB\n"
     ]
    }
   ],
   "source": [
    "df.info()"
   ]
  },
  {
   "cell_type": "markdown",
   "id": "c1b34d0f",
   "metadata": {},
   "source": [
    "### 2a. Resample in 15 minute intervals (groupby)"
   ]
  },
  {
   "cell_type": "code",
   "execution_count": 223,
   "id": "0034d00b",
   "metadata": {},
   "outputs": [],
   "source": [
    "# data re-sampled based on 15 minute intervals\n",
    "resampled = pd.DataFrame(df.resample('15T').count())"
   ]
  },
  {
   "cell_type": "markdown",
   "id": "005a79eb",
   "metadata": {},
   "source": [
    "### 2b. Nomenclature"
   ]
  },
  {
   "cell_type": "markdown",
   "id": "25a9556d",
   "metadata": {},
   "source": [
    "Rename the second column to represent that it is the numnber of logins per 15 minute period. "
   ]
  },
  {
   "cell_type": "code",
   "execution_count": 224,
   "id": "91b59cee",
   "metadata": {},
   "outputs": [],
   "source": [
    "resampled.rename(columns = {'login_time' : 'NumOfLogins'}, inplace=True)"
   ]
  },
  {
   "cell_type": "code",
   "execution_count": 225,
   "id": "a64e1e63",
   "metadata": {},
   "outputs": [
    {
     "data": {
      "text/html": [
       "<div>\n",
       "<style scoped>\n",
       "    .dataframe tbody tr th:only-of-type {\n",
       "        vertical-align: middle;\n",
       "    }\n",
       "\n",
       "    .dataframe tbody tr th {\n",
       "        vertical-align: top;\n",
       "    }\n",
       "\n",
       "    .dataframe thead th {\n",
       "        text-align: right;\n",
       "    }\n",
       "</style>\n",
       "<table border=\"1\" class=\"dataframe\">\n",
       "  <thead>\n",
       "    <tr style=\"text-align: right;\">\n",
       "      <th></th>\n",
       "      <th>NumOfLogins</th>\n",
       "    </tr>\n",
       "    <tr>\n",
       "      <th>login_time</th>\n",
       "      <th></th>\n",
       "    </tr>\n",
       "  </thead>\n",
       "  <tbody>\n",
       "    <tr>\n",
       "      <th>1970-01-01 20:00:00</th>\n",
       "      <td>2</td>\n",
       "    </tr>\n",
       "    <tr>\n",
       "      <th>1970-01-01 20:15:00</th>\n",
       "      <td>6</td>\n",
       "    </tr>\n",
       "    <tr>\n",
       "      <th>1970-01-01 20:30:00</th>\n",
       "      <td>9</td>\n",
       "    </tr>\n",
       "    <tr>\n",
       "      <th>1970-01-01 20:45:00</th>\n",
       "      <td>7</td>\n",
       "    </tr>\n",
       "    <tr>\n",
       "      <th>1970-01-01 21:00:00</th>\n",
       "      <td>1</td>\n",
       "    </tr>\n",
       "  </tbody>\n",
       "</table>\n",
       "</div>"
      ],
      "text/plain": [
       "                     NumOfLogins\n",
       "login_time                      \n",
       "1970-01-01 20:00:00            2\n",
       "1970-01-01 20:15:00            6\n",
       "1970-01-01 20:30:00            9\n",
       "1970-01-01 20:45:00            7\n",
       "1970-01-01 21:00:00            1"
      ]
     },
     "execution_count": 225,
     "metadata": {},
     "output_type": "execute_result"
    }
   ],
   "source": [
    "resampled.head()"
   ]
  },
  {
   "cell_type": "markdown",
   "id": "579570ee",
   "metadata": {},
   "source": [
    "Let's check to see if the data is consistent. Months are different lengths, if we count the number of records per month we can get a rough idea of if the data is complete. \n",
    "We can also save the subsets of data in month groupings to make it easier to plot later. "
   ]
  },
  {
   "cell_type": "code",
   "execution_count": 226,
   "id": "a72eef50",
   "metadata": {},
   "outputs": [
    {
     "name": "stdout",
     "output_type": "stream",
     "text": [
      "Jan 2896\n",
      "Feb 2688\n",
      "Mar 2976\n",
      "Apr 1228\n"
     ]
    }
   ],
   "source": [
    "# Add a new column which containes the month name\n",
    "resampled['month'] = [d.strftime('%b') for d in resampled.index]\n",
    "\n",
    "# create an array of months, and a dictionary of dataframes\n",
    "months = resampled['month'].unique()\n",
    "d = {m: pd.DataFrame() for m in months}\n",
    "\n",
    "# iterate over months array to generate length of each, and populated each dataframe in d dict\n",
    "for m, i in zip(months, d):\n",
    "    print(m, len(resampled[resampled['month'] == m]))\n",
    "    d[m] = resampled[resampled['month'] == m]"
   ]
  },
  {
   "cell_type": "markdown",
   "id": "57aa8c14",
   "metadata": {},
   "source": [
    "April's data is clearly incomplete. February is a short month, so that length looks about right. We can keep April's data, but be aware that there is not data for every 15 minutes in the entire month. "
   ]
  },
  {
   "cell_type": "markdown",
   "id": "232238b2",
   "metadata": {},
   "source": [
    "## 3. Exploratory Data Analysis"
   ]
  },
  {
   "cell_type": "markdown",
   "id": "d6481272",
   "metadata": {},
   "source": [
    "Do a quick plot, and check if this time series is a random walk. "
   ]
  },
  {
   "cell_type": "code",
   "execution_count": 227,
   "id": "b26cab90",
   "metadata": {},
   "outputs": [
    {
     "name": "stdout",
     "output_type": "stream",
     "text": [
      "The p-value for the ADF test is  2.7323966542231624e-18\n"
     ]
    }
   ],
   "source": [
    "# Compute and print ADF p-value\n",
    "result = adfuller(resampled['NumOfLogins'])\n",
    "print(\"The p-value for the ADF test is \", result[1])"
   ]
  },
  {
   "cell_type": "markdown",
   "id": "5e34b2c2",
   "metadata": {},
   "source": [
    "The p-value is very less than the significance level of 0.05 and hence we can reject the null hypothesis and take that the series is stationary. "
   ]
  },
  {
   "cell_type": "code",
   "execution_count": 228,
   "id": "d7db460b",
   "metadata": {},
   "outputs": [
    {
     "data": {
      "image/png": "[encoded data removed]",
      "text/plain": [
       "<Figure size 432x288 with 1 Axes>"
      ]
     },
     "metadata": {
      "needs_background": "light"
     },
     "output_type": "display_data"
    }
   ],
   "source": [
    "# quick plot\n",
    "resampled['NumOfLogins'].plot()\n",
    "plt.show()"
   ]
  },
  {
   "cell_type": "markdown",
   "id": "70de0d2b",
   "metadata": {},
   "source": [
    "There is clearly a seasonality to this data. It looks like there are weekly cycles, instead of monthly cycles. \n",
    "It looks like the end of April is missing. We can see by looking at the tail of the data that this is indeed the case; April data goes through 4-13-21 only. "
   ]
  },
  {
   "cell_type": "code",
   "execution_count": 229,
   "id": "7b60f56f",
   "metadata": {},
   "outputs": [
    {
     "data": {
      "text/html": [
       "<div>\n",
       "<style scoped>\n",
       "    .dataframe tbody tr th:only-of-type {\n",
       "        vertical-align: middle;\n",
       "    }\n",
       "\n",
       "    .dataframe tbody tr th {\n",
       "        vertical-align: top;\n",
       "    }\n",
       "\n",
       "    .dataframe thead th {\n",
       "        text-align: right;\n",
       "    }\n",
       "</style>\n",
       "<table border=\"1\" class=\"dataframe\">\n",
       "  <thead>\n",
       "    <tr style=\"text-align: right;\">\n",
       "      <th></th>\n",
       "      <th>NumOfLogins</th>\n",
       "      <th>month</th>\n",
       "    </tr>\n",
       "    <tr>\n",
       "      <th>login_time</th>\n",
       "      <th></th>\n",
       "      <th></th>\n",
       "    </tr>\n",
       "  </thead>\n",
       "  <tbody>\n",
       "    <tr>\n",
       "      <th>1970-04-13 17:45:00</th>\n",
       "      <td>5</td>\n",
       "      <td>Apr</td>\n",
       "    </tr>\n",
       "    <tr>\n",
       "      <th>1970-04-13 18:00:00</th>\n",
       "      <td>5</td>\n",
       "      <td>Apr</td>\n",
       "    </tr>\n",
       "    <tr>\n",
       "      <th>1970-04-13 18:15:00</th>\n",
       "      <td>2</td>\n",
       "      <td>Apr</td>\n",
       "    </tr>\n",
       "    <tr>\n",
       "      <th>1970-04-13 18:30:00</th>\n",
       "      <td>7</td>\n",
       "      <td>Apr</td>\n",
       "    </tr>\n",
       "    <tr>\n",
       "      <th>1970-04-13 18:45:00</th>\n",
       "      <td>6</td>\n",
       "      <td>Apr</td>\n",
       "    </tr>\n",
       "  </tbody>\n",
       "</table>\n",
       "</div>"
      ],
      "text/plain": [
       "                     NumOfLogins month\n",
       "login_time                            \n",
       "1970-04-13 17:45:00            5   Apr\n",
       "1970-04-13 18:00:00            5   Apr\n",
       "1970-04-13 18:15:00            2   Apr\n",
       "1970-04-13 18:30:00            7   Apr\n",
       "1970-04-13 18:45:00            6   Apr"
      ]
     },
     "execution_count": 229,
     "metadata": {},
     "output_type": "execute_result"
    }
   ],
   "source": [
    "# Show where the end of the data is, in time\n",
    "resampled.tail()"
   ]
  },
  {
   "cell_type": "markdown",
   "id": "970294b9",
   "metadata": {},
   "source": [
    "Create a plot of each month's data separately to see if the seasonality is consistent. "
   ]
  },
  {
   "cell_type": "code",
   "execution_count": 230,
   "id": "608641b6",
   "metadata": {},
   "outputs": [
    {
     "data": {
      "image/png": "[encoded data removed]",
      "text/plain": [
       "<Figure size 1080x864 with 4 Axes>"
      ]
     },
     "metadata": {
      "needs_background": "light"
     },
     "output_type": "display_data"
    }
   ],
   "source": [
    "# Prep Colors -- Create random list of colors in the same length as the number of month we will plot\n",
    "\n",
    "np.random.seed(100)\n",
    "mycolors = np.random.choice(list(mpl.colors.XKCD_COLORS.keys()), len(months), replace=False)\n",
    "\n",
    "\n",
    "# define subplot grid\n",
    "\n",
    "fig, axs = plt.subplots(nrows=2, ncols=2, figsize=(15, 12))\n",
    "plt.subplots_adjust(hspace=0.5)\n",
    "fig.suptitle(\"LogIns Every 15 Min\", fontsize=18, y=0.95)\n",
    "\n",
    "\n",
    "\n",
    "# Draw Plot\n",
    "# Loop on the np array of months and the flattened list of axes\n",
    "for m, ax, i in zip(months, axs.ravel(), mycolors):\n",
    "    d[m].plot(ax=ax, color=i, label=m)\n",
    "\n",
    "# Add Title\n",
    "fig.suptitle('LogIns By Month', fontweight =\"bold\")\n",
    "\n",
    "# Decoration\n",
    "#plt.gca().set(xlim=(0, 31), ylim=(0, 70), ylabel='$LogIns$', xlabel='$Month$')\n",
    "\n",
    "plt.show()"
   ]
  },
  {
   "cell_type": "markdown",
   "id": "de3293a4",
   "metadata": {},
   "source": [
    "Over the four months, we see there is a weekly cycle and also a daily cycle. Let's plot just one week of March to show this pattern. "
   ]
  },
  {
   "cell_type": "code",
   "execution_count": 231,
   "id": "ec335dc5",
   "metadata": {},
   "outputs": [
    {
     "data": {
      "text/plain": [
       "<AxesSubplot:xlabel='login_time'>"
      ]
     },
     "execution_count": 231,
     "metadata": {},
     "output_type": "execute_result"
    },
    {
     "data": {
      "image/png": "[encoded data removed]",
      "text/plain": [
       "<Figure size 720x720 with 1 Axes>"
      ]
     },
     "metadata": {
      "needs_background": "light"
     },
     "output_type": "display_data"
    }
   ],
   "source": [
    "d['Mar'].iloc[100:800].plot(figsize=(10, 10))"
   ]
  },
  {
   "cell_type": "markdown",
   "id": "522bedbc",
   "metadata": {},
   "source": [
    "March 3, 1970 is a Tuesday and the 6th is a Friday. Logins are higher on the weekend. \n",
    "Let's plot just the weekend, and see what time of day is the highest:"
   ]
  },
  {
   "cell_type": "code",
   "execution_count": 232,
   "id": "20f8b0e2",
   "metadata": {},
   "outputs": [
    {
     "data": {
      "text/plain": [
       "<AxesSubplot:xlabel='login_time'>"
      ]
     },
     "execution_count": 232,
     "metadata": {},
     "output_type": "execute_result"
    },
    {
     "data": {
      "image/png": "[encoded data removed]",
      "text/plain": [
       "<Figure size 720x720 with 1 Axes>"
      ]
     },
     "metadata": {
      "needs_background": "light"
     },
     "output_type": "display_data"
    }
   ],
   "source": [
    "d['Mar'].iloc[500:700].plot(figsize=(10, 10))"
   ]
  },
  {
   "cell_type": "markdown",
   "id": "382e1cba",
   "metadata": {},
   "source": [
    "Logins are the highest late at night and early in the morning on the weekends. \n",
    "This seems to be true for all months (making assumptions about incomplete April data). "
   ]
  },
  {
   "cell_type": "markdown",
   "id": "92e34d5e",
   "metadata": {},
   "source": [
    "## 4. Experiment and Metrics"
   ]
  },
  {
   "cell_type": "markdown",
   "id": "a6da7748",
   "metadata": {},
   "source": [
    "The neighboring cities of Gotham and Metropolis have complementary circadian rhythms: on\n",
    "weekdays, Ultimate Gotham is most active at night, and Ultimate Metropolis is most active\n",
    "during the day. On weekends, there is reasonable activity in both cities.\n",
    "However, a toll bridge, with a two way toll, between the two cities causes driver partners to tend\n",
    "to be exclusive to each city. The Ultimate managers of city operations for the two cities have\n",
    "proposed an experiment to encourage driver partners to be available in both cities, by\n",
    "reimbursing all toll costs.\n",
    "\n"
   ]
  },
  {
   "cell_type": "markdown",
   "id": "7011f1b1",
   "metadata": {},
   "source": [
    "1) What would you choose as the key measure of success of this experiment in\n",
    "encouraging driver partners to serve both cities, and why would you choose this metric?\n",
    "\n",
    "I would use directional toll crossings. The driver partners from Gotham should be crossing into Metropolis during the day, and the drivers from Metropolis should be driving into Gotham at night. \n",
    "\n",
    "The time series representing the toll crossing out of Gotham should have peaks at or before the period of high activity in Metropolis, and the time series representing the toll crossing out of Metropolis should have peaks at or before the period of high activity in Gotham. The opposite should also be true. "
   ]
  },
  {
   "cell_type": "markdown",
   "id": "8a3307cd",
   "metadata": {},
   "source": [
    "2) Describe a practical experiment you would design to compare the effectiveness of the\n",
    "proposed change in relation to the key measure of success. Please provide details on:\n",
    "\n",
    "a) how you will implement the experiment\n",
    "\n",
    "b) what statistical test(s) you will conduct to verify the significance of the\n",
    "            observation\n",
    "\n",
    "c) how you would interpret the results and provide recommendations to the city\n",
    "operations team along with any caveats.\n",
    "\n",
    "We start by making the tolls reimbursable on one 24-hour period per week. We choose it to be a weekend when there is the most traffic, perhaps from midnight to midnight. We let all the driver partners know of this new reimbursable toll time, and suggest that they can improve their productivity by driving to the other city during lulls in their own city. \n",
    "\n",
    "We collect time stamps of driver partners crossing the tolls. We collect their home city, their direction of travel, and the time. We downsample the timestamps into 15 minute periods for data analysis. This collection is done before the experiment, and while the tolls are reimbursable. \n",
    "\n",
    "Once the time series are created, we can use the \"control\" (the time series data collected before the experiment began) and the test data to see what the likelihood is that the experimental time series could be forecasted by the control data. If the p-value is less than perhaps 0.05, we can reject the null hypothesis that patterns of travel were unaffected. \n",
    "\n",
    "If the experiment is successful, we may expand the experiment to other days. It may be helpful to find out how many routes the drivers are making in the opposite city, and provide that information to the operations team as a ratio of routes to tolls reimbursed. We need to let the operations team know that there is a margin of error in our forecasting and that predictions are more accurate closer to the experiment than further out in time, due to noise and drift. \n"
   ]
  },
  {
   "cell_type": "markdown",
   "id": "6d278c9f",
   "metadata": {},
   "source": [
    "## 5. Predictive Modeling"
   ]
  },
  {
   "cell_type": "markdown",
   "id": "6edca874",
   "metadata": {},
   "source": [
    "### 5a) Problem Statement"
   ]
  },
  {
   "cell_type": "markdown",
   "id": "32ba7504",
   "metadata": {},
   "source": [
    "Ultimate is interested in predicting rider retention. To help explore this question, we have\n",
    "provided a sample dataset of a cohort of users who signed up for an Ultimate account in\n",
    "January 2014. The data was pulled several months later; we consider a user retained if they\n",
    "were “active” (i.e. took a trip) in the preceding 30 days.\n",
    "We would like you to use this data set to help understand what factors are the best predictors\n",
    "for retention, and offer suggestions to operationalize those insights to help Ultimate.\n",
    "The data is in the attached file ultimate_data_challenge.json. See below for a detailed\n",
    "description of the dataset. Please include any code you wrote for the analysis and delete the\n",
    "dataset when you have finished with the challenge.\n",
    "1. Perform any cleaning, exploratory analysis, and/or visualizations to use the provided\n",
    "data for this analysis (a few sentences/plots describing your approach will suffice). What\n",
    "fraction of the observed users were retained?\n",
    "2. Build a predictive model to help Ultimate determine whether or not a user will be active in\n",
    "their 6th month on the system. Discuss why you chose your approach, what alternatives\n",
    "you considered, and any concerns you have. How valid is your model? Include any key\n",
    "indicators of model performance.\n",
    "3. Briefly discuss how Ultimate might leverage the insights gained from the model to\n",
    "improve its long term rider retention (again, a few sentences will suffice)."
   ]
  },
  {
   "cell_type": "markdown",
   "id": "b5b752e8",
   "metadata": {},
   "source": [
    "Data description\n",
    "\n",
    "● city: city this user signed up in\n",
    "\n",
    "● phone: primary device for this user\n",
    "\n",
    "● signup_date: date of account registration; in the form ‘YYYYMMDD’\n",
    "\n",
    "● last_trip_date: the last time this user completed a trip; in the form ‘YYYYMMDD’\n",
    "\n",
    "● avg_dist: the average distance in miles per trip taken in the first 30 days after signup\n",
    "\n",
    "● avg_rating_by_driver: the rider’s average rating over all of their trips\n",
    "\n",
    "● avg_rating_of_driver: the rider’s average rating of their drivers over all of their trips\n",
    "\n",
    "● surge_pct: the percent of trips taken with surge multiplier > 1\n",
    "\n",
    "● avg_surge: The average surge multiplier over all of this user’s trips\n",
    "\n",
    "● trips_in_first_30_days: the number of trips this user took in the first 30 days after signing up\n",
    "\n",
    "● ultimate_black_user: TRUE if the user took an Ultimate Black in their first 30 days; FALSE\n",
    "otherwise\n",
    "\n",
    "● weekday_pct: the percent of the user’s trips occurring during a weekday"
   ]
  },
  {
   "cell_type": "markdown",
   "id": "510f40d0",
   "metadata": {},
   "source": [
    "### 5b) Load and clean"
   ]
  },
  {
   "cell_type": "markdown",
   "id": "5c9d844b",
   "metadata": {},
   "source": [
    "Load data and display the first 5 rows. "
   ]
  },
  {
   "cell_type": "code",
   "execution_count": 233,
   "id": "da3f0c5b",
   "metadata": {},
   "outputs": [
    {
     "data": {
      "text/html": [
       "<div>\n",
       "<style scoped>\n",
       "    .dataframe tbody tr th:only-of-type {\n",
       "        vertical-align: middle;\n",
       "    }\n",
       "\n",
       "    .dataframe tbody tr th {\n",
       "        vertical-align: top;\n",
       "    }\n",
       "\n",
       "    .dataframe thead th {\n",
       "        text-align: right;\n",
       "    }\n",
       "</style>\n",
       "<table border=\"1\" class=\"dataframe\">\n",
       "  <thead>\n",
       "    <tr style=\"text-align: right;\">\n",
       "      <th></th>\n",
       "      <th>city</th>\n",
       "      <th>trips_in_first_30_days</th>\n",
       "      <th>signup_date</th>\n",
       "      <th>avg_rating_of_driver</th>\n",
       "      <th>avg_surge</th>\n",
       "      <th>last_trip_date</th>\n",
       "      <th>phone</th>\n",
       "      <th>surge_pct</th>\n",
       "      <th>ultimate_black_user</th>\n",
       "      <th>weekday_pct</th>\n",
       "      <th>avg_dist</th>\n",
       "      <th>avg_rating_by_driver</th>\n",
       "    </tr>\n",
       "  </thead>\n",
       "  <tbody>\n",
       "    <tr>\n",
       "      <th>0</th>\n",
       "      <td>King's Landing</td>\n",
       "      <td>4</td>\n",
       "      <td>2014-01-25</td>\n",
       "      <td>4.7</td>\n",
       "      <td>1.10</td>\n",
       "      <td>2014-06-17</td>\n",
       "      <td>iPhone</td>\n",
       "      <td>15.4</td>\n",
       "      <td>True</td>\n",
       "      <td>46.2</td>\n",
       "      <td>3.67</td>\n",
       "      <td>5.0</td>\n",
       "    </tr>\n",
       "    <tr>\n",
       "      <th>1</th>\n",
       "      <td>Astapor</td>\n",
       "      <td>0</td>\n",
       "      <td>2014-01-29</td>\n",
       "      <td>5.0</td>\n",
       "      <td>1.00</td>\n",
       "      <td>2014-05-05</td>\n",
       "      <td>Android</td>\n",
       "      <td>0.0</td>\n",
       "      <td>False</td>\n",
       "      <td>50.0</td>\n",
       "      <td>8.26</td>\n",
       "      <td>5.0</td>\n",
       "    </tr>\n",
       "    <tr>\n",
       "      <th>2</th>\n",
       "      <td>Astapor</td>\n",
       "      <td>3</td>\n",
       "      <td>2014-01-06</td>\n",
       "      <td>4.3</td>\n",
       "      <td>1.00</td>\n",
       "      <td>2014-01-07</td>\n",
       "      <td>iPhone</td>\n",
       "      <td>0.0</td>\n",
       "      <td>False</td>\n",
       "      <td>100.0</td>\n",
       "      <td>0.77</td>\n",
       "      <td>5.0</td>\n",
       "    </tr>\n",
       "    <tr>\n",
       "      <th>3</th>\n",
       "      <td>King's Landing</td>\n",
       "      <td>9</td>\n",
       "      <td>2014-01-10</td>\n",
       "      <td>4.6</td>\n",
       "      <td>1.14</td>\n",
       "      <td>2014-06-29</td>\n",
       "      <td>iPhone</td>\n",
       "      <td>20.0</td>\n",
       "      <td>True</td>\n",
       "      <td>80.0</td>\n",
       "      <td>2.36</td>\n",
       "      <td>4.9</td>\n",
       "    </tr>\n",
       "    <tr>\n",
       "      <th>4</th>\n",
       "      <td>Winterfell</td>\n",
       "      <td>14</td>\n",
       "      <td>2014-01-27</td>\n",
       "      <td>4.4</td>\n",
       "      <td>1.19</td>\n",
       "      <td>2014-03-15</td>\n",
       "      <td>Android</td>\n",
       "      <td>11.8</td>\n",
       "      <td>False</td>\n",
       "      <td>82.4</td>\n",
       "      <td>3.13</td>\n",
       "      <td>4.9</td>\n",
       "    </tr>\n",
       "  </tbody>\n",
       "</table>\n",
       "</div>"
      ],
      "text/plain": [
       "             city  trips_in_first_30_days signup_date  avg_rating_of_driver  \\\n",
       "0  King's Landing                       4  2014-01-25                   4.7   \n",
       "1         Astapor                       0  2014-01-29                   5.0   \n",
       "2         Astapor                       3  2014-01-06                   4.3   \n",
       "3  King's Landing                       9  2014-01-10                   4.6   \n",
       "4      Winterfell                      14  2014-01-27                   4.4   \n",
       "\n",
       "   avg_surge last_trip_date    phone  surge_pct  ultimate_black_user  \\\n",
       "0       1.10     2014-06-17   iPhone       15.4                 True   \n",
       "1       1.00     2014-05-05  Android        0.0                False   \n",
       "2       1.00     2014-01-07   iPhone        0.0                False   \n",
       "3       1.14     2014-06-29   iPhone       20.0                 True   \n",
       "4       1.19     2014-03-15  Android       11.8                False   \n",
       "\n",
       "   weekday_pct  avg_dist  avg_rating_by_driver  \n",
       "0         46.2      3.67                   5.0  \n",
       "1         50.0      8.26                   5.0  \n",
       "2        100.0      0.77                   5.0  \n",
       "3         80.0      2.36                   4.9  \n",
       "4         82.4      3.13                   4.9  "
      ]
     },
     "execution_count": 233,
     "metadata": {},
     "output_type": "execute_result"
    }
   ],
   "source": [
    "ret = pd.read_json('ultimate_data_challenge.json', typ='frame')\n",
    "ret.head()"
   ]
  },
  {
   "cell_type": "code",
   "execution_count": 234,
   "id": "a5412469",
   "metadata": {},
   "outputs": [
    {
     "name": "stdout",
     "output_type": "stream",
     "text": [
      "<class 'pandas.core.frame.DataFrame'>\n",
      "RangeIndex: 50000 entries, 0 to 49999\n",
      "Data columns (total 12 columns):\n",
      " #   Column                  Non-Null Count  Dtype  \n",
      "---  ------                  --------------  -----  \n",
      " 0   city                    50000 non-null  object \n",
      " 1   trips_in_first_30_days  50000 non-null  int64  \n",
      " 2   signup_date             50000 non-null  object \n",
      " 3   avg_rating_of_driver    41878 non-null  float64\n",
      " 4   avg_surge               50000 non-null  float64\n",
      " 5   last_trip_date          50000 non-null  object \n",
      " 6   phone                   49604 non-null  object \n",
      " 7   surge_pct               50000 non-null  float64\n",
      " 8   ultimate_black_user     50000 non-null  bool   \n",
      " 9   weekday_pct             50000 non-null  float64\n",
      " 10  avg_dist                50000 non-null  float64\n",
      " 11  avg_rating_by_driver    49799 non-null  float64\n",
      "dtypes: bool(1), float64(6), int64(1), object(4)\n",
      "memory usage: 4.2+ MB\n"
     ]
    },
    {
     "data": {
      "text/plain": [
       "(None,\n",
       " city                         0\n",
       " trips_in_first_30_days       0\n",
       " signup_date                  0\n",
       " avg_rating_of_driver      8122\n",
       " avg_surge                    0\n",
       " last_trip_date               0\n",
       " phone                      396\n",
       " surge_pct                    0\n",
       " ultimate_black_user          0\n",
       " weekday_pct                  0\n",
       " avg_dist                     0\n",
       " avg_rating_by_driver       201\n",
       " dtype: int64)"
      ]
     },
     "execution_count": 234,
     "metadata": {},
     "output_type": "execute_result"
    }
   ],
   "source": [
    "ret.info(), ret.isnull().sum()"
   ]
  },
  {
   "cell_type": "markdown",
   "id": "21f2a3ca",
   "metadata": {},
   "source": [
    "it looks like there are 50,000 records and some nulls, the most occuring in the avg_rating_of_driver and some also occuring in phone and avg_rating_by_driver. \n",
    "Phone number won't have any affect on retention since it's not descriptive in any way, so that column isn't important. \n",
    "However, the average rating of the drivers over all of a rider's trips seems like it may be quite important indeed. \n",
    "\n",
    "This data field is missing from almost 20% of records. \n",
    "\n",
    "We have the following choices: We could impute the data somehow, or we could remove those rows. \n",
    "\n",
    "I will drop the phone column, and then drop all rows containing an NaN. \n",
    "My reasoning for this is that I surmise rating is very important in the rentention equation. To impute 20% of an important data field with a value such as the mean or median may significantly the outcome. "
   ]
  },
  {
   "cell_type": "code",
   "execution_count": 235,
   "id": "e0515ab3",
   "metadata": {},
   "outputs": [],
   "source": [
    "# drop the 'phone' columns\n",
    "ret.drop(columns=['phone'], axis=1, inplace=True)"
   ]
  },
  {
   "cell_type": "code",
   "execution_count": 236,
   "id": "362506df",
   "metadata": {},
   "outputs": [],
   "source": [
    "# drop all rows containing an Nan\n",
    "ret.dropna(inplace=True)"
   ]
  },
  {
   "cell_type": "code",
   "execution_count": 237,
   "id": "74114bea",
   "metadata": {},
   "outputs": [
    {
     "name": "stdout",
     "output_type": "stream",
     "text": [
      "<class 'pandas.core.frame.DataFrame'>\n",
      "Int64Index: 41744 entries, 0 to 49998\n",
      "Data columns (total 11 columns):\n",
      " #   Column                  Non-Null Count  Dtype  \n",
      "---  ------                  --------------  -----  \n",
      " 0   city                    41744 non-null  object \n",
      " 1   trips_in_first_30_days  41744 non-null  int64  \n",
      " 2   signup_date             41744 non-null  object \n",
      " 3   avg_rating_of_driver    41744 non-null  float64\n",
      " 4   avg_surge               41744 non-null  float64\n",
      " 5   last_trip_date          41744 non-null  object \n",
      " 6   surge_pct               41744 non-null  float64\n",
      " 7   ultimate_black_user     41744 non-null  bool   \n",
      " 8   weekday_pct             41744 non-null  float64\n",
      " 9   avg_dist                41744 non-null  float64\n",
      " 10  avg_rating_by_driver    41744 non-null  float64\n",
      "dtypes: bool(1), float64(6), int64(1), object(3)\n",
      "memory usage: 3.5+ MB\n"
     ]
    }
   ],
   "source": [
    "# display remaining row count\n",
    "ret.info()"
   ]
  },
  {
   "cell_type": "code",
   "execution_count": 238,
   "id": "58e963ca",
   "metadata": {},
   "outputs": [
    {
     "data": {
      "text/html": [
       "<div>\n",
       "<style scoped>\n",
       "    .dataframe tbody tr th:only-of-type {\n",
       "        vertical-align: middle;\n",
       "    }\n",
       "\n",
       "    .dataframe tbody tr th {\n",
       "        vertical-align: top;\n",
       "    }\n",
       "\n",
       "    .dataframe thead th {\n",
       "        text-align: right;\n",
       "    }\n",
       "</style>\n",
       "<table border=\"1\" class=\"dataframe\">\n",
       "  <thead>\n",
       "    <tr style=\"text-align: right;\">\n",
       "      <th></th>\n",
       "      <th>trips_in_first_30_days</th>\n",
       "      <th>avg_rating_of_driver</th>\n",
       "      <th>avg_surge</th>\n",
       "      <th>surge_pct</th>\n",
       "      <th>weekday_pct</th>\n",
       "      <th>avg_dist</th>\n",
       "      <th>avg_rating_by_driver</th>\n",
       "    </tr>\n",
       "  </thead>\n",
       "  <tbody>\n",
       "    <tr>\n",
       "      <th>count</th>\n",
       "      <td>41744.000000</td>\n",
       "      <td>41744.000000</td>\n",
       "      <td>41744.000000</td>\n",
       "      <td>41744.000000</td>\n",
       "      <td>41744.000000</td>\n",
       "      <td>41744.000000</td>\n",
       "      <td>41744.000000</td>\n",
       "    </tr>\n",
       "    <tr>\n",
       "      <th>mean</th>\n",
       "      <td>2.611393</td>\n",
       "      <td>4.601801</td>\n",
       "      <td>1.073697</td>\n",
       "      <td>8.884695</td>\n",
       "      <td>61.304437</td>\n",
       "      <td>5.465312</td>\n",
       "      <td>4.776648</td>\n",
       "    </tr>\n",
       "    <tr>\n",
       "      <th>std</th>\n",
       "      <td>4.060121</td>\n",
       "      <td>0.616079</td>\n",
       "      <td>0.198681</td>\n",
       "      <td>18.309042</td>\n",
       "      <td>34.799944</td>\n",
       "      <td>5.149810</td>\n",
       "      <td>0.404109</td>\n",
       "    </tr>\n",
       "    <tr>\n",
       "      <th>min</th>\n",
       "      <td>0.000000</td>\n",
       "      <td>1.000000</td>\n",
       "      <td>1.000000</td>\n",
       "      <td>0.000000</td>\n",
       "      <td>0.000000</td>\n",
       "      <td>0.000000</td>\n",
       "      <td>1.000000</td>\n",
       "    </tr>\n",
       "    <tr>\n",
       "      <th>25%</th>\n",
       "      <td>0.000000</td>\n",
       "      <td>4.300000</td>\n",
       "      <td>1.000000</td>\n",
       "      <td>0.000000</td>\n",
       "      <td>37.500000</td>\n",
       "      <td>2.420000</td>\n",
       "      <td>4.700000</td>\n",
       "    </tr>\n",
       "    <tr>\n",
       "      <th>50%</th>\n",
       "      <td>1.000000</td>\n",
       "      <td>4.900000</td>\n",
       "      <td>1.000000</td>\n",
       "      <td>0.000000</td>\n",
       "      <td>66.700000</td>\n",
       "      <td>3.790000</td>\n",
       "      <td>5.000000</td>\n",
       "    </tr>\n",
       "    <tr>\n",
       "      <th>75%</th>\n",
       "      <td>3.000000</td>\n",
       "      <td>5.000000</td>\n",
       "      <td>1.070000</td>\n",
       "      <td>11.100000</td>\n",
       "      <td>100.000000</td>\n",
       "      <td>6.490000</td>\n",
       "      <td>5.000000</td>\n",
       "    </tr>\n",
       "    <tr>\n",
       "      <th>max</th>\n",
       "      <td>125.000000</td>\n",
       "      <td>5.000000</td>\n",
       "      <td>8.000000</td>\n",
       "      <td>100.000000</td>\n",
       "      <td>100.000000</td>\n",
       "      <td>79.690000</td>\n",
       "      <td>5.000000</td>\n",
       "    </tr>\n",
       "  </tbody>\n",
       "</table>\n",
       "</div>"
      ],
      "text/plain": [
       "       trips_in_first_30_days  avg_rating_of_driver     avg_surge  \\\n",
       "count            41744.000000          41744.000000  41744.000000   \n",
       "mean                 2.611393              4.601801      1.073697   \n",
       "std                  4.060121              0.616079      0.198681   \n",
       "min                  0.000000              1.000000      1.000000   \n",
       "25%                  0.000000              4.300000      1.000000   \n",
       "50%                  1.000000              4.900000      1.000000   \n",
       "75%                  3.000000              5.000000      1.070000   \n",
       "max                125.000000              5.000000      8.000000   \n",
       "\n",
       "          surge_pct   weekday_pct      avg_dist  avg_rating_by_driver  \n",
       "count  41744.000000  41744.000000  41744.000000          41744.000000  \n",
       "mean       8.884695     61.304437      5.465312              4.776648  \n",
       "std       18.309042     34.799944      5.149810              0.404109  \n",
       "min        0.000000      0.000000      0.000000              1.000000  \n",
       "25%        0.000000     37.500000      2.420000              4.700000  \n",
       "50%        0.000000     66.700000      3.790000              5.000000  \n",
       "75%       11.100000    100.000000      6.490000              5.000000  \n",
       "max      100.000000    100.000000     79.690000              5.000000  "
      ]
     },
     "execution_count": 238,
     "metadata": {},
     "output_type": "execute_result"
    }
   ],
   "source": [
    "# describe data\n",
    "ret.describe()"
   ]
  },
  {
   "cell_type": "markdown",
   "id": "9312378f",
   "metadata": {},
   "source": [
    "Let's fix some of the columns - \n",
    "change 'city' to a categorical column,\n",
    "'signup_date' and 'last_trip_date' to datetime."
   ]
  },
  {
   "cell_type": "code",
   "execution_count": 239,
   "id": "923d72d1",
   "metadata": {},
   "outputs": [],
   "source": [
    "# change two columns to datetime\n",
    "ret.signup_date = pd.to_datetime(ret['signup_date'])\n",
    "ret.last_trip_date = pd.to_datetime(ret['last_trip_date'])"
   ]
  },
  {
   "cell_type": "code",
   "execution_count": 240,
   "id": "6541ef31",
   "metadata": {},
   "outputs": [
    {
     "data": {
      "text/plain": [
       "(array([\"King's Landing\", 'Astapor', 'Winterfell'], dtype=object), 3)"
      ]
     },
     "execution_count": 240,
     "metadata": {},
     "output_type": "execute_result"
    }
   ],
   "source": [
    "# check unique values in 'city'\n",
    "ret.city.unique(), len(ret.city.unique())"
   ]
  },
  {
   "cell_type": "markdown",
   "id": "5213697b",
   "metadata": {},
   "source": [
    "Let's use an encoder. "
   ]
  },
  {
   "cell_type": "code",
   "execution_count": 241,
   "id": "93eb3293",
   "metadata": {},
   "outputs": [],
   "source": [
    "# instantiate encoder. \n",
    "le = LabelEncoder()"
   ]
  },
  {
   "cell_type": "code",
   "execution_count": 242,
   "id": "2f4f05af",
   "metadata": {},
   "outputs": [],
   "source": [
    "ret['city_categorical'] = le.fit(ret['city']).transform(ret['city'])"
   ]
  },
  {
   "cell_type": "code",
   "execution_count": 243,
   "id": "11b1206c",
   "metadata": {},
   "outputs": [
    {
     "name": "stdout",
     "output_type": "stream",
     "text": [
      "<class 'pandas.core.frame.DataFrame'>\n",
      "Int64Index: 41744 entries, 0 to 49998\n",
      "Data columns (total 12 columns):\n",
      " #   Column                  Non-Null Count  Dtype         \n",
      "---  ------                  --------------  -----         \n",
      " 0   city                    41744 non-null  object        \n",
      " 1   trips_in_first_30_days  41744 non-null  int64         \n",
      " 2   signup_date             41744 non-null  datetime64[ns]\n",
      " 3   avg_rating_of_driver    41744 non-null  float64       \n",
      " 4   avg_surge               41744 non-null  float64       \n",
      " 5   last_trip_date          41744 non-null  datetime64[ns]\n",
      " 6   surge_pct               41744 non-null  float64       \n",
      " 7   ultimate_black_user     41744 non-null  bool          \n",
      " 8   weekday_pct             41744 non-null  float64       \n",
      " 9   avg_dist                41744 non-null  float64       \n",
      " 10  avg_rating_by_driver    41744 non-null  float64       \n",
      " 11  city_categorical        41744 non-null  category      \n",
      "dtypes: bool(1), category(1), datetime64[ns](2), float64(6), int64(1), object(1)\n",
      "memory usage: 3.6+ MB\n"
     ]
    }
   ],
   "source": [
    "ret['city_categorical'] = ret['city_categorical'].astype('category')\n",
    "ret.info()"
   ]
  },
  {
   "cell_type": "markdown",
   "id": "57013b81",
   "metadata": {},
   "source": [
    "Let's handle the dates. Datetime objects can't be used in machine learning, so we need to make some features out of the columns: signup_date and last_trip_date. \n",
    "One handy feature could be the elapsed number of days between signup_date and last_trip_date. \n",
    "Another feature could be their last trip was in the evening hours, or in the daytime. \n",
    "This whole project is an exercise, so I'm going to stop there. Let's add one of those features. "
   ]
  },
  {
   "cell_type": "code",
   "execution_count": 244,
   "id": "051e0229",
   "metadata": {},
   "outputs": [],
   "source": [
    "ret['Day_Signup_to_Last'] = (ret['last_trip_date'] - ret['signup_date'])\n",
    "ret['Day_Signup_to_Last'] = ret['Day_Signup_to_Last'].astype('timedelta64[D]')\n",
    "ret['Day_Signup_to_Last'] = ret['Day_Signup_to_Last'].astype(int)"
   ]
  },
  {
   "cell_type": "code",
   "execution_count": 245,
   "id": "c4152a9f",
   "metadata": {},
   "outputs": [
    {
     "name": "stdout",
     "output_type": "stream",
     "text": [
      "<class 'pandas.core.frame.DataFrame'>\n",
      "Int64Index: 41744 entries, 0 to 49998\n",
      "Data columns (total 13 columns):\n",
      " #   Column                  Non-Null Count  Dtype         \n",
      "---  ------                  --------------  -----         \n",
      " 0   city                    41744 non-null  object        \n",
      " 1   trips_in_first_30_days  41744 non-null  int64         \n",
      " 2   signup_date             41744 non-null  datetime64[ns]\n",
      " 3   avg_rating_of_driver    41744 non-null  float64       \n",
      " 4   avg_surge               41744 non-null  float64       \n",
      " 5   last_trip_date          41744 non-null  datetime64[ns]\n",
      " 6   surge_pct               41744 non-null  float64       \n",
      " 7   ultimate_black_user     41744 non-null  bool          \n",
      " 8   weekday_pct             41744 non-null  float64       \n",
      " 9   avg_dist                41744 non-null  float64       \n",
      " 10  avg_rating_by_driver    41744 non-null  float64       \n",
      " 11  city_categorical        41744 non-null  category      \n",
      " 12  Day_Signup_to_Last      41744 non-null  int32         \n",
      "dtypes: bool(1), category(1), datetime64[ns](2), float64(6), int32(1), int64(1), object(1)\n",
      "memory usage: 3.7+ MB\n"
     ]
    }
   ],
   "source": [
    "ret.info()"
   ]
  },
  {
   "cell_type": "markdown",
   "id": "db901969",
   "metadata": {},
   "source": [
    "### 5c) Create \"Retained\" column"
   ]
  },
  {
   "cell_type": "code",
   "execution_count": 246,
   "id": "746a7ca8",
   "metadata": {},
   "outputs": [
    {
     "name": "stdout",
     "output_type": "stream",
     "text": [
      "<class 'pandas.core.frame.DataFrame'>\n",
      "Int64Index: 41744 entries, 0 to 49998\n",
      "Data columns (total 13 columns):\n",
      " #   Column                  Non-Null Count  Dtype         \n",
      "---  ------                  --------------  -----         \n",
      " 0   city                    41744 non-null  object        \n",
      " 1   trips_in_first_30_days  41744 non-null  int64         \n",
      " 2   signup_date             41744 non-null  datetime64[ns]\n",
      " 3   avg_rating_of_driver    41744 non-null  float64       \n",
      " 4   avg_surge               41744 non-null  float64       \n",
      " 5   last_trip_date          41744 non-null  datetime64[ns]\n",
      " 6   surge_pct               41744 non-null  float64       \n",
      " 7   ultimate_black_user     41744 non-null  bool          \n",
      " 8   weekday_pct             41744 non-null  float64       \n",
      " 9   avg_dist                41744 non-null  float64       \n",
      " 10  avg_rating_by_driver    41744 non-null  float64       \n",
      " 11  city_categorical        41744 non-null  category      \n",
      " 12  Day_Signup_to_Last      41744 non-null  int32         \n",
      "dtypes: bool(1), category(1), datetime64[ns](2), float64(6), int32(1), int64(1), object(1)\n",
      "memory usage: 3.7+ MB\n"
     ]
    }
   ],
   "source": [
    "ret.info()"
   ]
  },
  {
   "cell_type": "markdown",
   "id": "0ed5f1a7",
   "metadata": {},
   "source": [
    "We need to figure out which of these users was \"retained\". The problem statement says that data was pulled in 2014, and users are considered retained if they completed a ride within the last 30 days. Let's look at the last trip date to ascertain when the data was pulled. "
   ]
  },
  {
   "cell_type": "code",
   "execution_count": 247,
   "id": "90211d70",
   "metadata": {},
   "outputs": [
    {
     "data": {
      "text/plain": [
       "count                            41744\n",
       "mean     2014-04-24 12:22:14.994250752\n",
       "min                2014-01-01 00:00:00\n",
       "25%                2014-02-24 00:00:00\n",
       "50%                2014-05-16 00:00:00\n",
       "75%                2014-06-20 00:00:00\n",
       "max                2014-07-01 00:00:00\n",
       "Name: last_trip_date, dtype: object"
      ]
     },
     "execution_count": 247,
     "metadata": {},
     "output_type": "execute_result"
    }
   ],
   "source": [
    "# return information about the last_trip_date\n",
    "ret['last_trip_date'].describe(datetime_is_numeric=True)"
   ]
  },
  {
   "cell_type": "markdown",
   "id": "374ec126",
   "metadata": {},
   "source": [
    "The latest trip date is 7/1/2014 so I will assume that the date was pulled on 7/1/2014 at 00:00:01. Any users completing rides within 30 days preceding that date will be \"retained\". \"Retained\" will be a 1 indicating true and 0 indicating false. "
   ]
  },
  {
   "cell_type": "code",
   "execution_count": 248,
   "id": "bc6fb31e",
   "metadata": {},
   "outputs": [],
   "source": [
    "# Create datetime comparison date\n",
    "ret_date = datetime.datetime(2014,6,1,0,0,0)"
   ]
  },
  {
   "cell_type": "code",
   "execution_count": 249,
   "id": "1c8b141b",
   "metadata": {},
   "outputs": [],
   "source": [
    "# Create retained column using list comp\n",
    "ret['retained'] = [1 if d > ret_date else 0 for d in ret['last_trip_date']]"
   ]
  },
  {
   "cell_type": "code",
   "execution_count": 250,
   "id": "68aaaf26",
   "metadata": {},
   "outputs": [],
   "source": [
    "# change to categorical\n",
    "ret['retained'] = ret['retained'].astype('category')"
   ]
  },
  {
   "cell_type": "markdown",
   "id": "d4050216",
   "metadata": {},
   "source": [
    "### 5d) Exploratory data analysis"
   ]
  },
  {
   "cell_type": "markdown",
   "id": "085a0e4f",
   "metadata": {},
   "source": [
    "How many customers were retained after 6 months?"
   ]
  },
  {
   "cell_type": "code",
   "execution_count": 251,
   "id": "ffc034ff",
   "metadata": {},
   "outputs": [
    {
     "name": "stdout",
     "output_type": "stream",
     "text": [
      "{'True': 16728, 'False': 25016}\n"
     ]
    }
   ],
   "source": [
    "cr = {'True': len(ret[ret['retained'] == 1]), \n",
    "     'False': len(ret[ret['retained'] == 0])}\n",
    "print(cr)"
   ]
  },
  {
   "cell_type": "code",
   "execution_count": 252,
   "id": "0b778d70",
   "metadata": {},
   "outputs": [
    {
     "name": "stdout",
     "output_type": "stream",
     "text": [
      "The percentage of customers retained is about 40%\n"
     ]
    }
   ],
   "source": [
    "print(\"The percentage of customers retained is about {:00.00%}\".format(len(ret[ret['retained'] == 1])/len(ret)))"
   ]
  },
  {
   "cell_type": "raw",
   "id": "bade533b",
   "metadata": {},
   "source": [
    "# plot retention count as a histogram\n",
    "retained = list(cr.keys())\n",
    "values = list(cr.values())\n",
    "  \n",
    "fig = plt.figure(figsize = (5, 5))\n",
    " \n",
    "# creating the bar plot\n",
    "plt.bar(retained, values, color ='blue',\n",
    "        width = 0.2)\n",
    " \n",
    "plt.xlabel(\"Retained\")\n",
    "plt.ylabel(\"No. of Users\")\n",
    "plt.title(\"Customer Retention after Six Months\")\n",
    "plt.show()"
   ]
  },
  {
   "cell_type": "markdown",
   "id": "87d3e519",
   "metadata": {},
   "source": [
    "We now know that about 40% of customers who signed up were retained 6 months later. \n",
    "Did it make a difference how many rides they took in the first month? "
   ]
  },
  {
   "cell_type": "code",
   "execution_count": 253,
   "id": "8409875f",
   "metadata": {},
   "outputs": [],
   "source": [
    "# Create a dict of key:values for # of trips in first 30 days to is retained or not\n",
    "list1 = ret.trips_in_first_30_days.unique().tolist()\n",
    "list1.sort()\n",
    "list2 = []\n",
    "for i in range(len(list1)):\n",
    "    list2.append((len(ret[(ret['trips_in_first_30_days'] == list1[i]) & (ret['retained'] == 1)]), \n",
    "                len(ret[(ret['trips_in_first_30_days'] == list1[i]) & (ret['retained'] == 0)])))\n",
    "\n",
    "    \n",
    "    \n",
    "d = dict(zip(list1, list2))"
   ]
  },
  {
   "cell_type": "code",
   "execution_count": 254,
   "id": "0be8f24d",
   "metadata": {},
   "outputs": [
    {
     "data": {
      "image/png": "[encoded data removed]",
      "text/plain": [
       "<Figure size 864x864 with 1 Axes>"
      ]
     },
     "metadata": {
      "needs_background": "light"
     },
     "output_type": "display_data"
    }
   ],
   "source": [
    "df = pd.DataFrame(d)\n",
    "df = df.transpose()\n",
    "\n",
    "df.plot(kind=\"bar\", stacked=False, figsize=(12,12))\n",
    "plt.title('Retention by # of Rides in First Month')\n",
    "plt.legend({0: 'not retained', 1:'retained'})\n",
    "plt.show()"
   ]
  },
  {
   "cell_type": "markdown",
   "id": "f25559c2",
   "metadata": {},
   "source": [
    "It looks from this chart as though until rides in the first month exceeding 4, retention exceeded non-retention. However, as rides per first month increased, retention went down. Amazingly, one rider used the service 125x in the first month. I would guess his car broke down."
   ]
  },
  {
   "cell_type": "markdown",
   "id": "1b13539c",
   "metadata": {},
   "source": [
    "### 5e) Modeling and Prediction"
   ]
  },
  {
   "cell_type": "markdown",
   "id": "90c842ac",
   "metadata": {},
   "source": [
    "Because we have both categorical and continuous data, I'm going to use a Mixed Naive Bayes model. \n",
    "\n",
    "From the documentation:\n",
    "\"This module implements Categorical (Multinoulli) and Gaussian naive Bayes algorithms (hence mixed naive Bayes). This means that we are not confined to the assumption that features (given their respective y's) follow the Gaussian distribution, but also the categorical distribution. Hence it is natural that the continuous data be attributed to the Gaussian and the categorical data (nominal or ordinal) be attributed the the categorical distribution.\"  -- https://pypi.org/project/mixed-naive-bayes/"
   ]
  },
  {
   "cell_type": "code",
   "execution_count": 255,
   "id": "8d7c9133",
   "metadata": {},
   "outputs": [],
   "source": [
    "# Split X and y, removing the city name category, datetime objects, and the boolean ultimate_black_user. \n",
    "\n",
    "X = ret.drop(columns=['city', 'retained', 'last_trip_date', 'signup_date', 'ultimate_black_user'])\n",
    "y = ret.retained"
   ]
  },
  {
   "cell_type": "code",
   "execution_count": 256,
   "id": "f52c3feb",
   "metadata": {},
   "outputs": [
    {
     "name": "stdout",
     "output_type": "stream",
     "text": [
      "<class 'pandas.core.frame.DataFrame'>\n",
      "Int64Index: 41744 entries, 0 to 49998\n",
      "Data columns (total 9 columns):\n",
      " #   Column                  Non-Null Count  Dtype   \n",
      "---  ------                  --------------  -----   \n",
      " 0   trips_in_first_30_days  41744 non-null  int64   \n",
      " 1   avg_rating_of_driver    41744 non-null  float64 \n",
      " 2   avg_surge               41744 non-null  float64 \n",
      " 3   surge_pct               41744 non-null  float64 \n",
      " 4   weekday_pct             41744 non-null  float64 \n",
      " 5   avg_dist                41744 non-null  float64 \n",
      " 6   avg_rating_by_driver    41744 non-null  float64 \n",
      " 7   city_categorical        41744 non-null  category\n",
      " 8   Day_Signup_to_Last      41744 non-null  int32   \n",
      "dtypes: category(1), float64(6), int32(1), int64(1)\n",
      "memory usage: 2.7 MB\n"
     ]
    }
   ],
   "source": [
    "# Check the location of the categorical column for assigment to the Multinoulli naive Bayes algorithm. \n",
    "X.info()"
   ]
  },
  {
   "cell_type": "code",
   "execution_count": 257,
   "id": "5b12b98d",
   "metadata": {},
   "outputs": [],
   "source": [
    "# implement train/test split from sklearn\n",
    "X_train, X_test, y_train, y_test = train_test_split(X, y, test_size=0.3, random_state=42)"
   ]
  },
  {
   "cell_type": "code",
   "execution_count": 258,
   "id": "13e627a6",
   "metadata": {},
   "outputs": [
    {
     "data": {
      "text/plain": [
       "((29220, 9), (12524, 9))"
      ]
     },
     "execution_count": 258,
     "metadata": {},
     "output_type": "execute_result"
    }
   ],
   "source": [
    "# check shape of X\n",
    "X_train.shape, X_test.shape"
   ]
  },
  {
   "cell_type": "code",
   "execution_count": 259,
   "id": "59b26316",
   "metadata": {},
   "outputs": [
    {
     "data": {
      "text/plain": [
       "((29220,), (12524,))"
      ]
     },
     "execution_count": 259,
     "metadata": {},
     "output_type": "execute_result"
    }
   ],
   "source": [
    "# check shape of y\n",
    "y_train.shape, y_test.shape"
   ]
  },
  {
   "cell_type": "code",
   "execution_count": 260,
   "id": "f4e23d18",
   "metadata": {},
   "outputs": [
    {
     "name": "stdout",
     "output_type": "stream",
     "text": [
      "[3]\n"
     ]
    },
    {
     "data": {
      "text/plain": [
       "array([0, 1, 1, ..., 0, 0, 0], dtype=int64)"
      ]
     },
     "execution_count": 260,
     "metadata": {},
     "output_type": "execute_result"
    }
   ],
   "source": [
    "# instantiate model, fit and predict\n",
    "clf = MixedNB(categorical_features = [7])\n",
    "clf.fit(X_train,y_train)\n",
    "clf.predict(X_test)"
   ]
  },
  {
   "cell_type": "markdown",
   "id": "8fb3dc94",
   "metadata": {},
   "source": [
    "Naive Bayes is a generative classifier, so our output is always a strict classification, as opposed to logistic regression or some other discriminative classifier."
   ]
  },
  {
   "cell_type": "code",
   "execution_count": 261,
   "id": "0c3a7eee",
   "metadata": {},
   "outputs": [
    {
     "name": "stdout",
     "output_type": "stream",
     "text": [
      "0.9248642606196104\n"
     ]
    }
   ],
   "source": [
    "# Print the accuracy from the testing data.\n",
    "print(accuracy_score(clf.predict(X_test), y_test))"
   ]
  },
  {
   "cell_type": "markdown",
   "id": "21487e7d",
   "metadata": {},
   "source": [
    "From a very first model, an accuracy of 92.5% retention prediction is pretty good! "
   ]
  },
  {
   "cell_type": "code",
   "execution_count": 262,
   "id": "d5040ec1",
   "metadata": {},
   "outputs": [
    {
     "name": "stdout",
     "output_type": "stream",
     "text": [
      "[0.00164484 0.00068668 0.004168   0.00542958 0.00038326 0.00191632\n",
      " 0.00300224 0.00547748 0.37015331]\n"
     ]
    }
   ],
   "source": [
    "imps = permutation_importance(clf, X_test, y_test)\n",
    "print(imps.importances_mean)"
   ]
  },
  {
   "cell_type": "markdown",
   "id": "0e7952ec",
   "metadata": {},
   "source": [
    "Naive Bayes does not use a coefficient method like some other models. Instead we can use Permutation, which assigns a value of affect on the metric Accuracy when a certain variable is shuffled. From this data it looks as though the most important feature is the number of days between first signup and the last ride. This makes sense, because it rules out users who used the serviec and didn't like it, or used it for a particular purpose (car broke down) and never used it again. \n",
    "Other important features are the surge_pct and the city. "
   ]
  },
  {
   "cell_type": "markdown",
   "id": "6f34a401",
   "metadata": {},
   "source": [
    "## 6. Conclusion"
   ]
  },
  {
   "cell_type": "markdown",
   "id": "75753bbe",
   "metadata": {},
   "source": [
    "I chose to go with a mixed bayes algoritm, which combines a multinoulli and gaussian approach. \n",
    "\n",
    "Another option would have been to bin all of the continuous variables, and use a strict categorical approach like a SVM or a random forest model. \n",
    "\n",
    "Because I did not delve very deeply into creating features from the datetime variables, and because I completely disregarded the boolean Ultimate Black variable, I feel confident that it would be possible to create a more accurate model than the current, untuned model which has an accuracy of 92.5%. \n"
   ]
  }
 ],
 "metadata": {
  "kernelspec": {
   "display_name": "Python 3 (ipykernel)",
   "language": "python",
   "name": "python3"
  },
  "language_info": {
   "codemirror_mode": {
    "name": "ipython",
    "version": 3
   },
   "file_extension": ".py",
   "mimetype": "text/x-python",
   "name": "python",
   "nbconvert_exporter": "python",
   "pygments_lexer": "ipython3",
   "version": "3.8.10"
  }
 },
 "nbformat": 4,
 "nbformat_minor": 5
}
